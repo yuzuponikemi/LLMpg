{
 "cells": [
  {
   "cell_type": "code",
   "execution_count": 1,
   "metadata": {},
   "outputs": [
    {
     "name": "stdout",
     "output_type": "stream",
     "text": [
      "Requirement already satisfied: langchain in c:\\users\\yikemi.desktop-1o5dlkf\\anaconda3\\envs\\llm\\lib\\site-packages (0.3.9)\n",
      "Requirement already satisfied: langchain-ollama in c:\\users\\yikemi.desktop-1o5dlkf\\anaconda3\\envs\\llm\\lib\\site-packages (0.2.0)\n",
      "Requirement already satisfied: ollama in c:\\users\\yikemi.desktop-1o5dlkf\\anaconda3\\envs\\llm\\lib\\site-packages (0.4.1)\n",
      "Requirement already satisfied: PyYAML>=5.3 in c:\\users\\yikemi.desktop-1o5dlkf\\anaconda3\\envs\\llm\\lib\\site-packages (from langchain) (6.0.2)\n",
      "Requirement already satisfied: SQLAlchemy<3,>=1.4 in c:\\users\\yikemi.desktop-1o5dlkf\\anaconda3\\envs\\llm\\lib\\site-packages (from langchain) (2.0.35)\n",
      "Requirement already satisfied: aiohttp<4.0.0,>=3.8.3 in c:\\users\\yikemi.desktop-1o5dlkf\\anaconda3\\envs\\llm\\lib\\site-packages (from langchain) (3.11.7)\n",
      "Requirement already satisfied: langchain-core<0.4.0,>=0.3.21 in c:\\users\\yikemi.desktop-1o5dlkf\\anaconda3\\envs\\llm\\lib\\site-packages (from langchain) (0.3.21)\n",
      "Requirement already satisfied: langchain-text-splitters<0.4.0,>=0.3.0 in c:\\users\\yikemi.desktop-1o5dlkf\\anaconda3\\envs\\llm\\lib\\site-packages (from langchain) (0.3.2)\n",
      "Requirement already satisfied: langsmith<0.2.0,>=0.1.17 in c:\\users\\yikemi.desktop-1o5dlkf\\anaconda3\\envs\\llm\\lib\\site-packages (from langchain) (0.1.146)\n",
      "Requirement already satisfied: numpy<3,>=1.26.2 in c:\\users\\yikemi.desktop-1o5dlkf\\anaconda3\\envs\\llm\\lib\\site-packages (from langchain) (1.26.4)\n",
      "Requirement already satisfied: pydantic<3.0.0,>=2.7.4 in c:\\users\\yikemi.desktop-1o5dlkf\\anaconda3\\envs\\llm\\lib\\site-packages (from langchain) (2.9.2)\n",
      "Requirement already satisfied: requests<3,>=2 in c:\\users\\yikemi.desktop-1o5dlkf\\anaconda3\\envs\\llm\\lib\\site-packages (from langchain) (2.32.3)\n",
      "Requirement already satisfied: tenacity!=8.4.0,<10,>=8.1.0 in c:\\users\\yikemi.desktop-1o5dlkf\\anaconda3\\envs\\llm\\lib\\site-packages (from langchain) (8.5.0)\n",
      "Requirement already satisfied: httpx<0.28.0,>=0.27.0 in c:\\users\\yikemi.desktop-1o5dlkf\\anaconda3\\envs\\llm\\lib\\site-packages (from ollama) (0.27.2)\n",
      "Requirement already satisfied: aiohappyeyeballs>=2.3.0 in c:\\users\\yikemi.desktop-1o5dlkf\\anaconda3\\envs\\llm\\lib\\site-packages (from aiohttp<4.0.0,>=3.8.3->langchain) (2.4.3)\n",
      "Requirement already satisfied: aiosignal>=1.1.2 in c:\\users\\yikemi.desktop-1o5dlkf\\anaconda3\\envs\\llm\\lib\\site-packages (from aiohttp<4.0.0,>=3.8.3->langchain) (1.3.1)\n",
      "Requirement already satisfied: attrs>=17.3.0 in c:\\users\\yikemi.desktop-1o5dlkf\\anaconda3\\envs\\llm\\lib\\site-packages (from aiohttp<4.0.0,>=3.8.3->langchain) (24.2.0)\n",
      "Requirement already satisfied: frozenlist>=1.1.1 in c:\\users\\yikemi.desktop-1o5dlkf\\anaconda3\\envs\\llm\\lib\\site-packages (from aiohttp<4.0.0,>=3.8.3->langchain) (1.5.0)\n",
      "Requirement already satisfied: multidict<7.0,>=4.5 in c:\\users\\yikemi.desktop-1o5dlkf\\anaconda3\\envs\\llm\\lib\\site-packages (from aiohttp<4.0.0,>=3.8.3->langchain) (6.1.0)\n",
      "Requirement already satisfied: propcache>=0.2.0 in c:\\users\\yikemi.desktop-1o5dlkf\\anaconda3\\envs\\llm\\lib\\site-packages (from aiohttp<4.0.0,>=3.8.3->langchain) (0.2.0)\n",
      "Requirement already satisfied: yarl<2.0,>=1.17.0 in c:\\users\\yikemi.desktop-1o5dlkf\\anaconda3\\envs\\llm\\lib\\site-packages (from aiohttp<4.0.0,>=3.8.3->langchain) (1.18.0)\n",
      "Requirement already satisfied: anyio in c:\\users\\yikemi.desktop-1o5dlkf\\anaconda3\\envs\\llm\\lib\\site-packages (from httpx<0.28.0,>=0.27.0->ollama) (4.6.2.post1)\n",
      "Requirement already satisfied: certifi in c:\\users\\yikemi.desktop-1o5dlkf\\anaconda3\\envs\\llm\\lib\\site-packages (from httpx<0.28.0,>=0.27.0->ollama) (2024.8.30)\n",
      "Requirement already satisfied: httpcore==1.* in c:\\users\\yikemi.desktop-1o5dlkf\\anaconda3\\envs\\llm\\lib\\site-packages (from httpx<0.28.0,>=0.27.0->ollama) (1.0.7)\n",
      "Requirement already satisfied: idna in c:\\users\\yikemi.desktop-1o5dlkf\\anaconda3\\envs\\llm\\lib\\site-packages (from httpx<0.28.0,>=0.27.0->ollama) (3.10)\n",
      "Requirement already satisfied: sniffio in c:\\users\\yikemi.desktop-1o5dlkf\\anaconda3\\envs\\llm\\lib\\site-packages (from httpx<0.28.0,>=0.27.0->ollama) (1.3.1)\n",
      "Requirement already satisfied: h11<0.15,>=0.13 in c:\\users\\yikemi.desktop-1o5dlkf\\anaconda3\\envs\\llm\\lib\\site-packages (from httpcore==1.*->httpx<0.28.0,>=0.27.0->ollama) (0.14.0)\n",
      "Requirement already satisfied: jsonpatch<2.0,>=1.33 in c:\\users\\yikemi.desktop-1o5dlkf\\anaconda3\\envs\\llm\\lib\\site-packages (from langchain-core<0.4.0,>=0.3.21->langchain) (1.33)\n",
      "Requirement already satisfied: packaging<25,>=23.2 in c:\\users\\yikemi.desktop-1o5dlkf\\appdata\\roaming\\python\\python312\\site-packages (from langchain-core<0.4.0,>=0.3.21->langchain) (24.0)\n",
      "Requirement already satisfied: typing-extensions>=4.7 in c:\\users\\yikemi.desktop-1o5dlkf\\anaconda3\\envs\\llm\\lib\\site-packages (from langchain-core<0.4.0,>=0.3.21->langchain) (4.12.2)\n",
      "Requirement already satisfied: orjson<4.0.0,>=3.9.14 in c:\\users\\yikemi.desktop-1o5dlkf\\anaconda3\\envs\\llm\\lib\\site-packages (from langsmith<0.2.0,>=0.1.17->langchain) (3.10.12)\n",
      "Requirement already satisfied: requests-toolbelt<2.0.0,>=1.0.0 in c:\\users\\yikemi.desktop-1o5dlkf\\anaconda3\\envs\\llm\\lib\\site-packages (from langsmith<0.2.0,>=0.1.17->langchain) (1.0.0)\n",
      "Requirement already satisfied: annotated-types>=0.6.0 in c:\\users\\yikemi.desktop-1o5dlkf\\anaconda3\\envs\\llm\\lib\\site-packages (from pydantic<3.0.0,>=2.7.4->langchain) (0.7.0)\n",
      "Requirement already satisfied: pydantic-core==2.23.4 in c:\\users\\yikemi.desktop-1o5dlkf\\anaconda3\\envs\\llm\\lib\\site-packages (from pydantic<3.0.0,>=2.7.4->langchain) (2.23.4)\n",
      "Requirement already satisfied: charset-normalizer<4,>=2 in c:\\users\\yikemi.desktop-1o5dlkf\\anaconda3\\envs\\llm\\lib\\site-packages (from requests<3,>=2->langchain) (3.4.0)\n",
      "Requirement already satisfied: urllib3<3,>=1.21.1 in c:\\users\\yikemi.desktop-1o5dlkf\\anaconda3\\envs\\llm\\lib\\site-packages (from requests<3,>=2->langchain) (2.2.3)\n",
      "Requirement already satisfied: greenlet!=0.4.17 in c:\\users\\yikemi.desktop-1o5dlkf\\anaconda3\\envs\\llm\\lib\\site-packages (from SQLAlchemy<3,>=1.4->langchain) (3.1.1)\n",
      "Requirement already satisfied: jsonpointer>=1.9 in c:\\users\\yikemi.desktop-1o5dlkf\\anaconda3\\envs\\llm\\lib\\site-packages (from jsonpatch<2.0,>=1.33->langchain-core<0.4.0,>=0.3.21->langchain) (3.0.0)\n"
     ]
    }
   ],
   "source": [
    "! pip install langchain langchain-ollama ollama"
   ]
  },
  {
   "cell_type": "code",
   "execution_count": null,
   "metadata": {},
   "outputs": [
    {
     "name": "stdout",
     "output_type": "stream",
     "text": [
      "I'm doing well, thanks for asking! How about you?\n"
     ]
    }
   ],
   "source": [
    "from langchain_ollama import OllamaLLM\n",
    "from langchain_core.prompts import ChatPromptTemplate\n",
    "\n",
    "template = \"\"\"\n",
    "Answer the following question.\n",
    "\n",
    "Here is the conversation history: {context}\n",
    "\n",
    "Question: {question}\n",
    "\n",
    "Answer:\n",
    "\n",
    "\"\"\"\n",
    "\n",
    "model = OllamaLLM(model=\"llama3.2\")\n",
    "prompt = ChatPromptTemplate.from_template(template)\n",
    "chain= prompt | model\n",
    "\n",
    "def handle_conversation():\n",
    "    context = \"\"\n",
    "    while True:\n",
    "        question = input(\"Question: \")\n",
    "        if question == \"exit\":\n",
    "            break\n",
    "        \n",
    "        result = chain.invoke({\"context\": context, \"question\": question})\n",
    "        print(result)\n",
    "        context += f\"Question: {question}\\nAnswer: {result}\\n\\n\"\n",
    "\n",
    "result = chain.invoke({\"context\": \"\", \"question\": \"hey how are you?\"})\n",
    "print(result)\n",
    "\n",
    "if __name__ == \"__main__\":\n",
    "    handle_conversation()"
   ]
  },
  {
   "cell_type": "code",
   "execution_count": null,
   "metadata": {},
   "outputs": [],
   "source": []
  },
  {
   "cell_type": "code",
   "execution_count": null,
   "metadata": {},
   "outputs": [],
   "source": []
  }
 ],
 "metadata": {
  "kernelspec": {
   "display_name": "llm",
   "language": "python",
   "name": "python3"
  },
  "language_info": {
   "codemirror_mode": {
    "name": "ipython",
    "version": 3
   },
   "file_extension": ".py",
   "mimetype": "text/x-python",
   "name": "python",
   "nbconvert_exporter": "python",
   "pygments_lexer": "ipython3",
   "version": "3.12.7"
  }
 },
 "nbformat": 4,
 "nbformat_minor": 2
}
